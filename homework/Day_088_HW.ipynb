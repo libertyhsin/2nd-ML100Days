{
 "cells": [
  {
   "cell_type": "markdown",
   "metadata": {},
   "source": [
    "## Work\n",
    "1. 請嘗試寫一個 callback 用來記錄各類別在訓練過程中，對驗證集的 True Positive 與 True Negative"
   ]
  },
  {
   "cell_type": "code",
   "execution_count": 1,
   "metadata": {},
   "outputs": [
    {
     "name": "stderr",
     "output_type": "stream",
     "text": [
      "Using TensorFlow backend.\n"
     ]
    }
   ],
   "source": [
    "import os\n",
    "import keras\n",
    "\n",
    "# Disable GPU\n",
    "os.environ[\"CUDA_VISIBLE_DEVICES\"] = \"\""
   ]
  },
  {
   "cell_type": "code",
   "execution_count": 2,
   "metadata": {},
   "outputs": [],
   "source": [
    "train, test = keras.datasets.cifar10.load_data()"
   ]
  },
  {
   "cell_type": "code",
   "execution_count": 3,
   "metadata": {},
   "outputs": [],
   "source": [
    "## 資料前處理\n",
    "def preproc_x(x, flatten=True):\n",
    "    x = x / 255.\n",
    "    if flatten:\n",
    "        x = x.reshape((len(x), -1))\n",
    "    return x\n",
    "\n",
    "def preproc_y(y, num_classes=10):\n",
    "    if y.shape[-1] == 1:\n",
    "        y = keras.utils.to_categorical(y, num_classes)\n",
    "    return y    "
   ]
  },
  {
   "cell_type": "code",
   "execution_count": 4,
   "metadata": {},
   "outputs": [],
   "source": [
    "x_train, y_train = train\n",
    "x_test, y_test = test\n",
    "\n",
    "# Preproc the inputs\n",
    "x_train = preproc_x(x_train)\n",
    "x_test = preproc_x(x_test)\n",
    "\n",
    "# Preprc the outputs\n",
    "y_train = preproc_y(y_train)\n",
    "y_test = preproc_y(y_test)"
   ]
  },
  {
   "cell_type": "code",
   "execution_count": 5,
   "metadata": {},
   "outputs": [],
   "source": [
    "from keras.layers import BatchNormalization\n",
    "\n",
    "def build_mlp(input_shape, output_units=10, num_neurons=[256, 256, 128]):\n",
    "    input_layer = keras.layers.Input(input_shape)\n",
    "    \n",
    "    for i, n_units in enumerate(num_neurons):\n",
    "        if i == 0:\n",
    "            x = keras.layers.Dense(units=n_units, \n",
    "                                   activation=\"relu\", \n",
    "                                   name=\"hidden_layer\"+str(i+1))(input_layer)\n",
    "            x = BatchNormalization()(x)\n",
    "        else:\n",
    "            x = keras.layers.Dense(units=n_units, \n",
    "                                   activation=\"relu\", \n",
    "                                   name=\"hidden_layer\"+str(i+1))(x)\n",
    "            x = BatchNormalization()(x)\n",
    "    \n",
    "    out = keras.layers.Dense(units=output_units, activation=\"softmax\", name=\"output\")(x)\n",
    "    \n",
    "    model = keras.models.Model(inputs=[input_layer], outputs=[out])\n",
    "    return model"
   ]
  },
  {
   "cell_type": "code",
   "execution_count": 6,
   "metadata": {},
   "outputs": [],
   "source": [
    "## 超參數設定\n",
    "LEARNING_RATE = 1e-3\n",
    "EPOCHS = 25\n",
    "BATCH_SIZE = 1024\n",
    "MOMENTUM = 0.95"
   ]
  },
  {
   "cell_type": "code",
   "execution_count": 17,
   "metadata": {},
   "outputs": [],
   "source": [
    "# 載入 Callbacks\n",
    "from keras.callbacks import Callback\n",
    "\n",
    "# Record_fp_tp\n",
    "class Record_tp_tn(Callback):\n",
    "    \"\"\"Code Here\n",
    "    撰寫一個紀錄 ture positive 與 true negative 數量的 callbacks    \n",
    "    \"\"\"\n",
    "    def on_train_begin(self, epoch, logs = {}):\n",
    "        logs = logs or {}\n",
    "        self.val_tps = []\n",
    "        self.val_tns = []\n",
    "    \n",
    "    def on_epoch_end(self, epoch, logs = {}, thres=0.5):\n",
    "        logs = logs or {}\n",
    "        y_true = self.validation_data[1].argmax(axis = 1)\n",
    "        y_pred = self.model.predict(self.validation_data[0])\n",
    "        y_pred = (y_pred[:, 1] >= thres) * 1\n",
    "        \n",
    "        tp, tn = 0, 0\n",
    "        for i, j in zip(y_true, y_pred):\n",
    "            if i == j and i == 1:\n",
    "                tp = tp + 1\n",
    "            if i == j and i == 0:\n",
    "                tn = tn + 1\n",
    "        self.val_tps.append(tp)\n",
    "        self.val_tns.append(tn)\n",
    "        logs[\"val_tps\"] = tp\n",
    "        logs[\"val_tns\"] = tn\n",
    "        \n",
    "rec_tptn = Record_tp_tn()"
   ]
  },
  {
   "cell_type": "code",
   "execution_count": 18,
   "metadata": {
    "scrolled": true
   },
   "outputs": [
    {
     "name": "stdout",
     "output_type": "stream",
     "text": [
      "_________________________________________________________________\n",
      "Layer (type)                 Output Shape              Param #   \n",
      "=================================================================\n",
      "input_2 (InputLayer)         (None, 3072)              0         \n",
      "_________________________________________________________________\n",
      "hidden_layer1 (Dense)        (None, 256)               786688    \n",
      "_________________________________________________________________\n",
      "batch_normalization_4 (Batch (None, 256)               1024      \n",
      "_________________________________________________________________\n",
      "hidden_layer2 (Dense)        (None, 256)               65792     \n",
      "_________________________________________________________________\n",
      "batch_normalization_5 (Batch (None, 256)               1024      \n",
      "_________________________________________________________________\n",
      "hidden_layer3 (Dense)        (None, 128)               32896     \n",
      "_________________________________________________________________\n",
      "batch_normalization_6 (Batch (None, 128)               512       \n",
      "_________________________________________________________________\n",
      "output (Dense)               (None, 10)                1290      \n",
      "=================================================================\n",
      "Total params: 889,226\n",
      "Trainable params: 887,946\n",
      "Non-trainable params: 1,280\n",
      "_________________________________________________________________\n",
      "Train on 50000 samples, validate on 10000 samples\n",
      "Epoch 1/25\n",
      "50000/50000 [==============================] - 8s 160us/step - loss: 2.2285 - acc: 0.2617 - val_loss: 2.1840 - val_acc: 0.3005\n",
      "Epoch 2/25\n",
      "50000/50000 [==============================] - 7s 138us/step - loss: 1.7696 - acc: 0.3792 - val_loss: 1.8053 - val_acc: 0.3725\n",
      "Epoch 3/25\n",
      "50000/50000 [==============================] - 6s 118us/step - loss: 1.6448 - acc: 0.4225 - val_loss: 1.7273 - val_acc: 0.3903\n",
      "Epoch 4/25\n",
      "50000/50000 [==============================] - 6s 115us/step - loss: 1.5733 - acc: 0.4466 - val_loss: 1.6461 - val_acc: 0.4218\n",
      "Epoch 5/25\n",
      "50000/50000 [==============================] - 6s 119us/step - loss: 1.5212 - acc: 0.4651 - val_loss: 1.6058 - val_acc: 0.4392\n",
      "Epoch 6/25\n",
      "50000/50000 [==============================] - 6s 114us/step - loss: 1.4803 - acc: 0.4803 - val_loss: 1.5758 - val_acc: 0.4499\n",
      "Epoch 7/25\n",
      "50000/50000 [==============================] - 6s 116us/step - loss: 1.4449 - acc: 0.4936 - val_loss: 1.5560 - val_acc: 0.4572\n",
      "Epoch 8/25\n",
      "50000/50000 [==============================] - 6s 114us/step - loss: 1.4148 - acc: 0.5052 - val_loss: 1.5484 - val_acc: 0.4559\n",
      "Epoch 9/25\n",
      "50000/50000 [==============================] - 6s 128us/step - loss: 1.3864 - acc: 0.5147 - val_loss: 1.5268 - val_acc: 0.4671\n",
      "Epoch 10/25\n",
      "50000/50000 [==============================] - 6s 117us/step - loss: 1.3610 - acc: 0.5235 - val_loss: 1.5167 - val_acc: 0.4704\n",
      "Epoch 11/25\n",
      "50000/50000 [==============================] - 6s 120us/step - loss: 1.3360 - acc: 0.5344 - val_loss: 1.4944 - val_acc: 0.4789\n",
      "Epoch 12/25\n",
      "50000/50000 [==============================] - 6s 116us/step - loss: 1.3132 - acc: 0.5407 - val_loss: 1.4878 - val_acc: 0.4773\n",
      "Epoch 13/25\n",
      "50000/50000 [==============================] - 6s 116us/step - loss: 1.2920 - acc: 0.5473 - val_loss: 1.4857 - val_acc: 0.4798\n",
      "Epoch 14/25\n",
      "50000/50000 [==============================] - 6s 125us/step - loss: 1.2696 - acc: 0.5589 - val_loss: 1.4813 - val_acc: 0.4826\n",
      "Epoch 15/25\n",
      "50000/50000 [==============================] - 6s 127us/step - loss: 1.2490 - acc: 0.5647 - val_loss: 1.4792 - val_acc: 0.4862\n",
      "Epoch 16/25\n",
      "50000/50000 [==============================] - 6s 124us/step - loss: 1.2302 - acc: 0.5717 - val_loss: 1.4673 - val_acc: 0.4865\n",
      "Epoch 17/25\n",
      "50000/50000 [==============================] - 6s 119us/step - loss: 1.2108 - acc: 0.5789 - val_loss: 1.4699 - val_acc: 0.4818\n",
      "Epoch 18/25\n",
      "50000/50000 [==============================] - 6s 119us/step - loss: 1.1921 - acc: 0.5869 - val_loss: 1.4671 - val_acc: 0.4907\n",
      "Epoch 19/25\n",
      "50000/50000 [==============================] - 6s 119us/step - loss: 1.1747 - acc: 0.5927 - val_loss: 1.4542 - val_acc: 0.4927\n",
      "Epoch 20/25\n",
      "50000/50000 [==============================] - 6s 120us/step - loss: 1.1566 - acc: 0.5985 - val_loss: 1.4493 - val_acc: 0.4911\n",
      "Epoch 21/25\n",
      "50000/50000 [==============================] - 6s 119us/step - loss: 1.1405 - acc: 0.6045 - val_loss: 1.4477 - val_acc: 0.4978\n",
      "Epoch 22/25\n",
      "50000/50000 [==============================] - 6s 120us/step - loss: 1.1237 - acc: 0.6111 - val_loss: 1.4465 - val_acc: 0.4935\n",
      "Epoch 23/25\n",
      "50000/50000 [==============================] - 6s 119us/step - loss: 1.1060 - acc: 0.6174 - val_loss: 1.4435 - val_acc: 0.4930\n",
      "Epoch 24/25\n",
      "50000/50000 [==============================] - 6s 119us/step - loss: 1.0904 - acc: 0.6242 - val_loss: 1.4436 - val_acc: 0.4940\n",
      "Epoch 25/25\n",
      "50000/50000 [==============================] - 6s 123us/step - loss: 1.0745 - acc: 0.6311 - val_loss: 1.4371 - val_acc: 0.4971\n"
     ]
    }
   ],
   "source": [
    "model = build_mlp(input_shape=x_train.shape[1:])\n",
    "model.summary()\n",
    "optimizer = keras.optimizers.SGD(lr=LEARNING_RATE, nesterov=True, momentum=MOMENTUM)\n",
    "model.compile(loss=\"categorical_crossentropy\", metrics=[\"accuracy\"], optimizer=optimizer)\n",
    "\n",
    "\"\"\"Code Here\n",
    "將 callbacks 放入模型訓練流程中\n",
    "\"\"\"\n",
    "model.fit(x_train, y_train, \n",
    "          epochs=EPOCHS, \n",
    "          batch_size=BATCH_SIZE, \n",
    "          validation_data=(x_test, y_test), \n",
    "          shuffle=True,\n",
    "          callbacks=[rec_tptn]\n",
    "         )\n",
    "\n",
    "# Collect results\n",
    "train_loss = model.history.history[\"loss\"]\n",
    "valid_loss = model.history.history[\"val_loss\"]\n",
    "train_acc = model.history.history[\"acc\"]\n",
    "valid_acc = model.history.history[\"val_acc\"]\n",
    "\n",
    "\"\"\"Code Here\n",
    "將 tp/tn 從訓練完的模型中取出\n",
    "\"\"\"\n",
    "valid_tp = model.history.history[\"val_tps\"]\n",
    "valid_tn = model.history.history['val_tns']"
   ]
  },
  {
   "cell_type": "code",
   "execution_count": 20,
   "metadata": {},
   "outputs": [
    {
     "name": "stdout",
     "output_type": "stream",
     "text": [
      "[425, 228, 198, 299, 341, 363, 334, 331, 370, 483, 450, 415, 513, 512, 485, 453, 457, 547, 473, 497, 444, 547, 482, 491, 500]\n",
      "[919, 995, 997, 991, 984, 990, 992, 995, 993, 971, 987, 991, 981, 982, 980, 986, 989, 976, 987, 986, 988, 973, 986, 984, 986]\n",
      "[425, 228, 198, 299, 341, 363, 334, 331, 370, 483, 450, 415, 513, 512, 485, 453, 457, 547, 473, 497, 444, 547, 482, 491, 500]\n",
      "[919, 995, 997, 991, 984, 990, 992, 995, 993, 971, 987, 991, 981, 982, 980, 986, 989, 976, 987, 986, 988, 973, 986, 984, 986]\n"
     ]
    }
   ],
   "source": [
    "print(rec_tptn.val_tps)\n",
    "print(rec_tptn.val_tns)\n",
    "valid_tp = model.history.history[\"val_tps\"]\n",
    "valid_tn = model.history.history['val_tns']\n",
    "print(valid_tp)\n",
    "print(valid_tn)"
   ]
  },
  {
   "cell_type": "code",
   "execution_count": 21,
   "metadata": {},
   "outputs": [
    {
     "data": {
      "image/png": "[encoded data removed]",
      "text/plain": [
       "<Figure size 432x288 with 1 Axes>"
      ]
     },
     "metadata": {
      "needs_background": "light"
     },
     "output_type": "display_data"
    },
    {
     "data": {
      "image/png": "[encoded data removed]",
      "text/plain": [
       "<Figure size 432x288 with 1 Axes>"
      ]
     },
     "metadata": {
      "needs_background": "light"
     },
     "output_type": "display_data"
    },
    {
     "data": {
      "image/png": "[encoded data removed]",
      "text/plain": [
       "<Figure size 432x288 with 1 Axes>"
      ]
     },
     "metadata": {
      "needs_background": "light"
     },
     "output_type": "display_data"
    }
   ],
   "source": [
    "import matplotlib.pyplot as plt\n",
    "%matplotlib inline\n",
    "\n",
    "plt.plot(range(len(train_loss)), train_loss, label=\"train loss\")\n",
    "plt.plot(range(len(valid_loss)), valid_loss, label=\"valid loss\")\n",
    "plt.legend()\n",
    "plt.title(\"Loss\")\n",
    "plt.show()\n",
    "\n",
    "plt.plot(range(len(train_acc)), train_acc, label=\"train accuracy\")\n",
    "plt.plot(range(len(valid_acc)), valid_acc, label=\"valid accuracy\")\n",
    "plt.legend()\n",
    "plt.title(\"Accuracy\")\n",
    "plt.show()\n",
    "\n",
    "plt.plot(range(len(valid_tp)), valid_tp, label=\"valid tp\", color=\"navy\")\n",
    "plt.plot(range(len(valid_tn)), valid_tn, label=\"valid tn\", color=\"red\")\n",
    "plt.legend()\n",
    "plt.title(\"True positives and True Negatives\")\n",
    "plt.show()\n"
   ]
  },
  {
   "cell_type": "code",
   "execution_count": null,
   "metadata": {},
   "outputs": [],
   "source": []
  }
 ],
 "metadata": {
  "kernelspec": {
   "display_name": "Python 3",
   "language": "python",
   "name": "python3"
  },
  "language_info": {
   "codemirror_mode": {
    "name": "ipython",
    "version": 3
   },
   "file_extension": ".py",
   "mimetype": "text/x-python",
   "name": "python",
   "nbconvert_exporter": "python",
   "pygments_lexer": "ipython3",
   "version": "3.7.3"
  }
 },
 "nbformat": 4,
 "nbformat_minor": 2
}
