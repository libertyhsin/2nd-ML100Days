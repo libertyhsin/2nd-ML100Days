{
 "cells": [
  {
   "cell_type": "markdown",
   "metadata": {},
   "source": [
    "## 練習時間"
   ]
  },
  {
   "cell_type": "markdown",
   "metadata": {},
   "source": [
    "請觀看台大電機李宏毅教授的影片。李教授會用非常淺顯易懂的方式介紹甚麼是機器學習。\n"
   ]
  },
  {
   "cell_type": "markdown",
   "metadata": {},
   "source": [
    "[youtube](https://www.youtube.com/watch?v=CXgbekl66jc)"
   ]
  },
  {
   "cell_type": "markdown",
   "metadata": {},
   "source": [
    "## 請找出一個你認為機器學習可以發光發熱的領域並闡述原因? "
   ]
  },
  {
   "cell_type": "code",
   "execution_count": null,
   "metadata": {},
   "outputs": [],
   "source": [
    "我認為機器學習適合大量運用在遊戲相關領域。這邊遊戲範圍很廣，從棋盤遊戲到手遊、線上遊戲，甚至到未來VR、AR等等都很適合。\n",
    "以對戰遊戲為例，職業選手在比賽的時候，都須根據對手、裝備、血量、組合、遊戲中狀況等等許多資訊中，即時判斷下一步應該怎麼做，\n",
    "但這邊判斷都是需要長時間經驗累積，如果能夠引進機器學習技術進來，讓電腦AI自行學習及訓練，就能達到職業選手，甚至更之上的水平，\n",
    "未來在培訓職業選手時，就可以透過AI帶給選手許多經驗，更進一步提升選手能力及培訓效率等等。"
   ]
  }
 ],
 "metadata": {
  "kernelspec": {
   "display_name": "Python 3",
   "language": "python",
   "name": "python3"
  },
  "language_info": {
   "codemirror_mode": {
    "name": "ipython",
    "version": 3
   },
   "file_extension": ".py",
   "mimetype": "text/x-python",
   "name": "python",
   "nbconvert_exporter": "python",
   "pygments_lexer": "ipython3",
   "version": "3.7.3"
  }
 },
 "nbformat": 4,
 "nbformat_minor": 2
}
