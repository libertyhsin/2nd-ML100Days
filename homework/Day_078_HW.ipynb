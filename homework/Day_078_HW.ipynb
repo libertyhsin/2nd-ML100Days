{
 "cells": [
  {
   "cell_type": "markdown",
   "metadata": {},
   "source": [
    "## Work\n",
    "1. 請嘗試將 preproc_x 替換成以每筆資料的 min/max 進行標準化至 -1 ~ 1 間，再進行訓練\n",
    "2. 請嘗試將 mlp 疊更深 (e.g 5~10 層)，進行訓練後觀察 learning curve 的走勢\n",
    "3. (optional) 請改用 GPU 進行訓練 (如果你有 GPU 的話)，比較使用 CPU 與 GPU 的訓練速度"
   ]
  },
  {
   "cell_type": "code",
   "execution_count": 1,
   "metadata": {},
   "outputs": [],
   "source": [
    "## \n",
    "\"\"\"\n",
    "Your code here (optional)\n",
    "確認硬體資源\n",
    "\"\"\"\n"
   ]
  },
  {
   "cell_type": "code",
   "execution_count": 12,
   "metadata": {},
   "outputs": [],
   "source": [
    "import os\n",
    "import keras\n",
    "\n",
    "# 請嘗試設定 GPU：os.environ\n",
    "\n",
    "os.environ[\"CUDA_VISIBLE_DEVICES\"] = \"\""
   ]
  },
  {
   "cell_type": "code",
   "execution_count": 13,
   "metadata": {},
   "outputs": [],
   "source": [
    "train, test = keras.datasets.cifar10.load_data()"
   ]
  },
  {
   "cell_type": "code",
   "execution_count": 16,
   "metadata": {},
   "outputs": [],
   "source": [
    "## 資料前處理\n",
    "def preproc_x(x, flatten=True):\n",
    "    #m = x.min\n",
    "    #M = x.max\n",
    "    #x = (x - (m+M)/2) / ((m+M)/2)\n",
    "    x = (x - 127.5) / (127.5)\n",
    "    if flatten:\n",
    "        x = x.reshape((len(x), -1))\n",
    "    return x\n",
    "def preproc_y(y, num_classes=10):\n",
    "    if y.shape[-1] == 1:\n",
    "        y = keras.utils.to_categorical(y, num_classes)\n",
    "    return y    "
   ]
  },
  {
   "cell_type": "code",
   "execution_count": 17,
   "metadata": {},
   "outputs": [],
   "source": [
    "x_train, y_train = train\n",
    "x_test, y_test = test\n",
    "\n",
    "# Preproc the inputs\n",
    "x_train = preproc_x(x_train)\n",
    "x_test = preproc_x(x_test)\n",
    "\n",
    "# Preprc the outputs\n",
    "y_train = preproc_y(y_train)\n",
    "y_test = preproc_y(y_test)"
   ]
  },
  {
   "cell_type": "code",
   "execution_count": 20,
   "metadata": {},
   "outputs": [],
   "source": [
    "def build_mlp(input_shape, output_units=10, num_neurons=[256, 128, 64, 32, 16]):\n",
    "    input_layer = keras.layers.Input(input_shape)\n",
    "    \n",
    "    for i, n_units in enumerate(num_neurons):\n",
    "        if i == 0:\n",
    "            x = keras.layers.Dense(units=n_units, activation=\"relu\", name=\"hidden_layer\"+str(i+1))(input_layer)\n",
    "        else:\n",
    "            x = keras.layers.Dense(units=n_units, activation=\"relu\", name=\"hidden_layer\"+str(i+1))(x)\n",
    "    \n",
    "    out = keras.layers.Dense(units=output_units, activation=\"softmax\", name=\"output\")(x)\n",
    "    \n",
    "    model = keras.models.Model(inputs=[input_layer], outputs=[out])\n",
    "    return model"
   ]
  },
  {
   "cell_type": "code",
   "execution_count": 21,
   "metadata": {},
   "outputs": [
    {
     "name": "stdout",
     "output_type": "stream",
     "text": [
      "_________________________________________________________________\n",
      "Layer (type)                 Output Shape              Param #   \n",
      "=================================================================\n",
      "input_2 (InputLayer)         (None, 3072)              0         \n",
      "_________________________________________________________________\n",
      "hidden_layer1 (Dense)        (None, 256)               786688    \n",
      "_________________________________________________________________\n",
      "hidden_layer2 (Dense)        (None, 128)               32896     \n",
      "_________________________________________________________________\n",
      "hidden_layer3 (Dense)        (None, 64)                8256      \n",
      "_________________________________________________________________\n",
      "hidden_layer4 (Dense)        (None, 32)                2080      \n",
      "_________________________________________________________________\n",
      "hidden_layer5 (Dense)        (None, 16)                528       \n",
      "_________________________________________________________________\n",
      "output (Dense)               (None, 10)                170       \n",
      "=================================================================\n",
      "Total params: 830,618\n",
      "Trainable params: 830,618\n",
      "Non-trainable params: 0\n",
      "_________________________________________________________________\n"
     ]
    }
   ],
   "source": [
    "model = build_mlp(input_shape=x_train.shape[1:])\n",
    "model.summary()"
   ]
  },
  {
   "cell_type": "code",
   "execution_count": 22,
   "metadata": {},
   "outputs": [],
   "source": [
    "## 超參數設定\n",
    "LEARNING_RATE = 0.001\n",
    "EPOCHS = 100\n",
    "BATCH_SIZE = 256"
   ]
  },
  {
   "cell_type": "code",
   "execution_count": 23,
   "metadata": {},
   "outputs": [
    {
     "name": "stderr",
     "output_type": "stream",
     "text": [
      "W0822 22:54:56.350188  7348 deprecation_wrapper.py:119] From C:\\Users\\Hsin-PC\\Anaconda3\\lib\\site-packages\\keras\\optimizers.py:790: The name tf.train.Optimizer is deprecated. Please use tf.compat.v1.train.Optimizer instead.\n",
      "\n",
      "W0822 22:54:56.538337  7348 deprecation_wrapper.py:119] From C:\\Users\\Hsin-PC\\Anaconda3\\lib\\site-packages\\keras\\backend\\tensorflow_backend.py:3295: The name tf.log is deprecated. Please use tf.math.log instead.\n",
      "\n"
     ]
    }
   ],
   "source": [
    "optimizer = keras.optimizers.Adam(lr=LEARNING_RATE)\n",
    "model.compile(loss=\"categorical_crossentropy\", metrics=[\"accuracy\"], optimizer=optimizer)"
   ]
  },
  {
   "cell_type": "code",
   "execution_count": 24,
   "metadata": {},
   "outputs": [
    {
     "name": "stderr",
     "output_type": "stream",
     "text": [
      "W0822 22:55:49.564232  7348 deprecation.py:323] From C:\\Users\\Hsin-PC\\Anaconda3\\lib\\site-packages\\tensorflow\\python\\ops\\math_grad.py:1250: add_dispatch_support.<locals>.wrapper (from tensorflow.python.ops.array_ops) is deprecated and will be removed in a future version.\n",
      "Instructions for updating:\n",
      "Use tf.where in 2.0, which has the same broadcast rule as np.where\n",
      "W0822 22:55:49.717338  7348 deprecation_wrapper.py:119] From C:\\Users\\Hsin-PC\\Anaconda3\\lib\\site-packages\\keras\\backend\\tensorflow_backend.py:986: The name tf.assign_add is deprecated. Please use tf.compat.v1.assign_add instead.\n",
      "\n"
     ]
    },
    {
     "name": "stdout",
     "output_type": "stream",
     "text": [
      "Train on 50000 samples, validate on 10000 samples\n",
      "Epoch 1/100\n",
      "50000/50000 [==============================] - 12s 247us/step - loss: 1.8309 - acc: 0.3479 - val_loss: 1.6173 - val_acc: 0.4330\n",
      "Epoch 2/100\n",
      "50000/50000 [==============================] - 9s 188us/step - loss: 1.5545 - acc: 0.4536 - val_loss: 1.5274 - val_acc: 0.4598\n",
      "Epoch 3/100\n",
      "50000/50000 [==============================] - 9s 178us/step - loss: 1.4340 - acc: 0.4959 - val_loss: 1.4773 - val_acc: 0.4835\n",
      "Epoch 4/100\n",
      "50000/50000 [==============================] - 9s 187us/step - loss: 1.3505 - acc: 0.5250 - val_loss: 1.4396 - val_acc: 0.4950\n",
      "Epoch 5/100\n",
      "50000/50000 [==============================] - 9s 170us/step - loss: 1.2719 - acc: 0.5544 - val_loss: 1.4101 - val_acc: 0.5145\n",
      "Epoch 6/100\n",
      "50000/50000 [==============================] - 9s 186us/step - loss: 1.2072 - acc: 0.5781 - val_loss: 1.3941 - val_acc: 0.5164\n",
      "Epoch 7/100\n",
      "50000/50000 [==============================] - 9s 172us/step - loss: 1.1438 - acc: 0.5983 - val_loss: 1.4098 - val_acc: 0.5165\n",
      "Epoch 8/100\n",
      "50000/50000 [==============================] - 8s 167us/step - loss: 1.0866 - acc: 0.6182 - val_loss: 1.3973 - val_acc: 0.5229\n",
      "Epoch 9/100\n",
      "50000/50000 [==============================] - 8s 167us/step - loss: 1.0315 - acc: 0.6378 - val_loss: 1.4052 - val_acc: 0.5294\n",
      "Epoch 10/100\n",
      "50000/50000 [==============================] - 8s 170us/step - loss: 0.9779 - acc: 0.6557 - val_loss: 1.4283 - val_acc: 0.5289\n",
      "Epoch 11/100\n",
      "50000/50000 [==============================] - 9s 172us/step - loss: 0.9284 - acc: 0.6716 - val_loss: 1.4532 - val_acc: 0.5250\n",
      "Epoch 12/100\n",
      "50000/50000 [==============================] - 9s 188us/step - loss: 0.8756 - acc: 0.6931 - val_loss: 1.5138 - val_acc: 0.5206\n",
      "Epoch 13/100\n",
      "50000/50000 [==============================] - 9s 176us/step - loss: 0.8359 - acc: 0.7053 - val_loss: 1.5212 - val_acc: 0.5347\n",
      "Epoch 14/100\n",
      "50000/50000 [==============================] - 10s 209us/step - loss: 0.7850 - acc: 0.7229 - val_loss: 1.5519 - val_acc: 0.5224\n",
      "Epoch 15/100\n",
      "50000/50000 [==============================] - 8s 168us/step - loss: 0.7555 - acc: 0.7347 - val_loss: 1.5868 - val_acc: 0.5203\n",
      "Epoch 16/100\n",
      "50000/50000 [==============================] - 9s 178us/step - loss: 0.7057 - acc: 0.7527 - val_loss: 1.6382 - val_acc: 0.5277\n",
      "Epoch 17/100\n",
      "50000/50000 [==============================] - 9s 184us/step - loss: 0.6724 - acc: 0.7643 - val_loss: 1.7379 - val_acc: 0.5196\n",
      "Epoch 18/100\n",
      "50000/50000 [==============================] - 12s 231us/step - loss: 0.6387 - acc: 0.7751 - val_loss: 1.7319 - val_acc: 0.5246\n",
      "Epoch 19/100\n",
      "50000/50000 [==============================] - 9s 180us/step - loss: 0.6008 - acc: 0.7891 - val_loss: 1.8436 - val_acc: 0.5145\n",
      "Epoch 20/100\n",
      "50000/50000 [==============================] - 9s 175us/step - loss: 0.5737 - acc: 0.7988 - val_loss: 1.8136 - val_acc: 0.5165\n",
      "Epoch 21/100\n",
      "50000/50000 [==============================] - 9s 182us/step - loss: 0.5394 - acc: 0.8112 - val_loss: 1.9614 - val_acc: 0.5094\n",
      "Epoch 22/100\n",
      "50000/50000 [==============================] - 8s 170us/step - loss: 0.5105 - acc: 0.8203 - val_loss: 2.0150 - val_acc: 0.5055\n",
      "Epoch 23/100\n",
      "50000/50000 [==============================] - 8s 169us/step - loss: 0.4916 - acc: 0.8281 - val_loss: 2.0530 - val_acc: 0.5184\n",
      "Epoch 24/100\n",
      "50000/50000 [==============================] - 8s 169us/step - loss: 0.4545 - acc: 0.8414 - val_loss: 2.0944 - val_acc: 0.5152\n",
      "Epoch 25/100\n",
      "50000/50000 [==============================] - 9s 172us/step - loss: 0.4392 - acc: 0.8472 - val_loss: 2.2037 - val_acc: 0.5152\n",
      "Epoch 26/100\n",
      "50000/50000 [==============================] - 9s 173us/step - loss: 0.4222 - acc: 0.8527 - val_loss: 2.2187 - val_acc: 0.5075\n",
      "Epoch 27/100\n",
      "50000/50000 [==============================] - 9s 172us/step - loss: 0.3941 - acc: 0.8622 - val_loss: 2.2936 - val_acc: 0.5155\n",
      "Epoch 28/100\n",
      "50000/50000 [==============================] - 9s 178us/step - loss: 0.3733 - acc: 0.8688 - val_loss: 2.3741 - val_acc: 0.5094\n",
      "Epoch 29/100\n",
      "50000/50000 [==============================] - 9s 170us/step - loss: 0.3651 - acc: 0.8719 - val_loss: 2.4038 - val_acc: 0.5160\n",
      "Epoch 30/100\n",
      "50000/50000 [==============================] - 8s 169us/step - loss: 0.3504 - acc: 0.8772 - val_loss: 2.4721 - val_acc: 0.5083\n",
      "Epoch 31/100\n",
      "50000/50000 [==============================] - 9s 176us/step - loss: 0.3361 - acc: 0.8834 - val_loss: 2.5905 - val_acc: 0.5102\n",
      "Epoch 32/100\n",
      "50000/50000 [==============================] - 9s 171us/step - loss: 0.3138 - acc: 0.8907 - val_loss: 2.5682 - val_acc: 0.5083\n",
      "Epoch 33/100\n",
      "50000/50000 [==============================] - 8s 169us/step - loss: 0.3051 - acc: 0.8939 - val_loss: 2.6795 - val_acc: 0.5133\n",
      "Epoch 34/100\n",
      "50000/50000 [==============================] - 8s 166us/step - loss: 0.2811 - acc: 0.9014 - val_loss: 2.7466 - val_acc: 0.4983\n",
      "Epoch 35/100\n",
      "50000/50000 [==============================] - 8s 166us/step - loss: 0.2744 - acc: 0.9046 - val_loss: 2.8253 - val_acc: 0.5030\n",
      "Epoch 36/100\n",
      "50000/50000 [==============================] - 8s 166us/step - loss: 0.2692 - acc: 0.9062 - val_loss: 2.7822 - val_acc: 0.5040\n",
      "Epoch 37/100\n",
      "50000/50000 [==============================] - 9s 173us/step - loss: 0.2721 - acc: 0.9062 - val_loss: 2.8850 - val_acc: 0.5056\n",
      "Epoch 38/100\n",
      "50000/50000 [==============================] - 8s 167us/step - loss: 0.2476 - acc: 0.9140 - val_loss: 2.9268 - val_acc: 0.5058\n",
      "Epoch 39/100\n",
      "50000/50000 [==============================] - 8s 167us/step - loss: 0.2470 - acc: 0.9155 - val_loss: 2.9936 - val_acc: 0.5106\n",
      "Epoch 40/100\n",
      "50000/50000 [==============================] - 8s 169us/step - loss: 0.2375 - acc: 0.9174 - val_loss: 3.0107 - val_acc: 0.5072\n",
      "Epoch 41/100\n",
      "50000/50000 [==============================] - 8s 170us/step - loss: 0.2391 - acc: 0.9179 - val_loss: 3.1081 - val_acc: 0.5009\n",
      "Epoch 42/100\n",
      "50000/50000 [==============================] - 8s 167us/step - loss: 0.2377 - acc: 0.9181 - val_loss: 3.1172 - val_acc: 0.5034\n",
      "Epoch 43/100\n",
      "50000/50000 [==============================] - 8s 167us/step - loss: 0.2100 - acc: 0.9272 - val_loss: 3.1489 - val_acc: 0.5089\n",
      "Epoch 44/100\n",
      "50000/50000 [==============================] - 8s 166us/step - loss: 0.1967 - acc: 0.9318 - val_loss: 3.2503 - val_acc: 0.5048\n",
      "Epoch 45/100\n",
      "50000/50000 [==============================] - 8s 168us/step - loss: 0.2015 - acc: 0.9318 - val_loss: 3.3077 - val_acc: 0.4956\n",
      "Epoch 46/100\n",
      "50000/50000 [==============================] - 8s 166us/step - loss: 0.2037 - acc: 0.9304 - val_loss: 3.2345 - val_acc: 0.5015\n",
      "Epoch 47/100\n",
      "50000/50000 [==============================] - 8s 167us/step - loss: 0.2031 - acc: 0.9295 - val_loss: 3.2569 - val_acc: 0.5024\n",
      "Epoch 48/100\n",
      "50000/50000 [==============================] - 9s 174us/step - loss: 0.2062 - acc: 0.9301 - val_loss: 3.3611 - val_acc: 0.5017\n",
      "Epoch 49/100\n",
      "50000/50000 [==============================] - 9s 172us/step - loss: 0.1757 - acc: 0.9397 - val_loss: 3.3864 - val_acc: 0.5014\n",
      "Epoch 50/100\n",
      "50000/50000 [==============================] - 9s 170us/step - loss: 0.1587 - acc: 0.9460 - val_loss: 3.4392 - val_acc: 0.5100\n",
      "Epoch 51/100\n",
      "50000/50000 [==============================] - 8s 167us/step - loss: 0.1612 - acc: 0.9455 - val_loss: 3.5115 - val_acc: 0.5050\n",
      "Epoch 52/100\n",
      "50000/50000 [==============================] - 8s 165us/step - loss: 0.1929 - acc: 0.9342 - val_loss: 3.4708 - val_acc: 0.5051\n",
      "Epoch 53/100\n",
      "50000/50000 [==============================] - 8s 166us/step - loss: 0.1837 - acc: 0.9377 - val_loss: 3.4675 - val_acc: 0.4952\n",
      "Epoch 54/100\n",
      "50000/50000 [==============================] - 9s 175us/step - loss: 0.1612 - acc: 0.9452 - val_loss: 3.5370 - val_acc: 0.5037\n",
      "Epoch 55/100\n",
      "50000/50000 [==============================] - 9s 172us/step - loss: 0.1580 - acc: 0.9465 - val_loss: 3.6000 - val_acc: 0.5083\n",
      "Epoch 56/100\n",
      "50000/50000 [==============================] - 8s 169us/step - loss: 0.1588 - acc: 0.9455 - val_loss: 3.5414 - val_acc: 0.5091\n",
      "Epoch 57/100\n",
      "50000/50000 [==============================] - 8s 169us/step - loss: 0.1529 - acc: 0.9477 - val_loss: 3.6613 - val_acc: 0.5007\n",
      "Epoch 58/100\n",
      "50000/50000 [==============================] - 8s 168us/step - loss: 0.1490 - acc: 0.9490 - val_loss: 3.6813 - val_acc: 0.5035\n",
      "Epoch 59/100\n"
     ]
    },
    {
     "name": "stdout",
     "output_type": "stream",
     "text": [
      "50000/50000 [==============================] - 8s 169us/step - loss: 0.1354 - acc: 0.9540 - val_loss: 3.6869 - val_acc: 0.5037\n",
      "Epoch 60/100\n",
      "50000/50000 [==============================] - 8s 166us/step - loss: 0.1630 - acc: 0.9439 - val_loss: 3.6785 - val_acc: 0.5023\n",
      "Epoch 61/100\n",
      "50000/50000 [==============================] - 9s 172us/step - loss: 0.1680 - acc: 0.9435 - val_loss: 3.6681 - val_acc: 0.5089\n",
      "Epoch 62/100\n",
      "50000/50000 [==============================] - 9s 172us/step - loss: 0.1516 - acc: 0.9490 - val_loss: 3.6792 - val_acc: 0.5082\n",
      "Epoch 63/100\n",
      "50000/50000 [==============================] - 8s 168us/step - loss: 0.1323 - acc: 0.9553 - val_loss: 3.7536 - val_acc: 0.5002\n",
      "Epoch 64/100\n",
      "50000/50000 [==============================] - 8s 169us/step - loss: 0.1395 - acc: 0.9519 - val_loss: 3.6891 - val_acc: 0.5067\n",
      "Epoch 65/100\n",
      "50000/50000 [==============================] - 8s 169us/step - loss: 0.1339 - acc: 0.9548 - val_loss: 3.8710 - val_acc: 0.5063\n",
      "Epoch 66/100\n",
      "50000/50000 [==============================] - 9s 178us/step - loss: 0.1292 - acc: 0.9556 - val_loss: 3.8388 - val_acc: 0.5041\n",
      "Epoch 67/100\n",
      "50000/50000 [==============================] - 9s 170us/step - loss: 0.1428 - acc: 0.9515 - val_loss: 3.8370 - val_acc: 0.5051\n",
      "Epoch 68/100\n",
      "50000/50000 [==============================] - 8s 167us/step - loss: 0.1304 - acc: 0.9559 - val_loss: 3.8603 - val_acc: 0.5037\n",
      "Epoch 69/100\n",
      "50000/50000 [==============================] - 8s 169us/step - loss: 0.1458 - acc: 0.9495 - val_loss: 3.8634 - val_acc: 0.5030\n",
      "Epoch 70/100\n",
      "50000/50000 [==============================] - 8s 167us/step - loss: 0.1331 - acc: 0.9546 - val_loss: 3.9156 - val_acc: 0.5125\n",
      "Epoch 71/100\n",
      "50000/50000 [==============================] - 8s 167us/step - loss: 0.1121 - acc: 0.9625 - val_loss: 3.9665 - val_acc: 0.5038\n",
      "Epoch 72/100\n",
      "50000/50000 [==============================] - 8s 167us/step - loss: 0.1521 - acc: 0.9493 - val_loss: 3.9232 - val_acc: 0.5000\n",
      "Epoch 73/100\n",
      "50000/50000 [==============================] - 8s 167us/step - loss: 0.1312 - acc: 0.9557 - val_loss: 3.9017 - val_acc: 0.5044\n",
      "Epoch 74/100\n",
      "50000/50000 [==============================] - 8s 166us/step - loss: 0.1043 - acc: 0.9657 - val_loss: 3.9721 - val_acc: 0.5072\n",
      "Epoch 75/100\n",
      "50000/50000 [==============================] - 8s 169us/step - loss: 0.1009 - acc: 0.9668 - val_loss: 4.0318 - val_acc: 0.5082\n",
      "Epoch 76/100\n",
      "50000/50000 [==============================] - 9s 181us/step - loss: 0.1437 - acc: 0.9515 - val_loss: 3.9441 - val_acc: 0.5030\n",
      "Epoch 77/100\n",
      "50000/50000 [==============================] - 9s 173us/step - loss: 0.1126 - acc: 0.9616 - val_loss: 4.0556 - val_acc: 0.5078\n",
      "Epoch 78/100\n",
      "50000/50000 [==============================] - 8s 167us/step - loss: 0.1183 - acc: 0.9603 - val_loss: 4.0357 - val_acc: 0.5087\n",
      "Epoch 79/100\n",
      "50000/50000 [==============================] - 8s 167us/step - loss: 0.1030 - acc: 0.9661 - val_loss: 4.0852 - val_acc: 0.4999\n",
      "Epoch 80/100\n",
      "50000/50000 [==============================] - 8s 167us/step - loss: 0.0893 - acc: 0.9705 - val_loss: 4.1985 - val_acc: 0.5009\n",
      "Epoch 81/100\n",
      "50000/50000 [==============================] - 8s 168us/step - loss: 0.1478 - acc: 0.9508 - val_loss: 4.0855 - val_acc: 0.4953\n",
      "Epoch 82/100\n",
      "50000/50000 [==============================] - 8s 167us/step - loss: 0.1499 - acc: 0.9512 - val_loss: 3.9944 - val_acc: 0.5095\n",
      "Epoch 83/100\n",
      "50000/50000 [==============================] - 9s 172us/step - loss: 0.0942 - acc: 0.9687 - val_loss: 3.9949 - val_acc: 0.5004\n",
      "Epoch 84/100\n",
      "50000/50000 [==============================] - 9s 171us/step - loss: 0.0802 - acc: 0.9733 - val_loss: 4.2153 - val_acc: 0.5039\n",
      "Epoch 85/100\n",
      "50000/50000 [==============================] - 9s 170us/step - loss: 0.1111 - acc: 0.9623 - val_loss: 4.1036 - val_acc: 0.5048\n",
      "Epoch 86/100\n",
      "50000/50000 [==============================] - 8s 167us/step - loss: 0.1251 - acc: 0.9587 - val_loss: 4.1641 - val_acc: 0.4997\n",
      "Epoch 87/100\n",
      "50000/50000 [==============================] - 9s 172us/step - loss: 0.0957 - acc: 0.9690 - val_loss: 4.1006 - val_acc: 0.5075\n",
      "Epoch 88/100\n",
      "50000/50000 [==============================] - 8s 167us/step - loss: 0.0988 - acc: 0.9665 - val_loss: 4.2494 - val_acc: 0.5041\n",
      "Epoch 89/100\n",
      "50000/50000 [==============================] - 8s 167us/step - loss: 0.1292 - acc: 0.9569 - val_loss: 4.1413 - val_acc: 0.4976\n",
      "Epoch 90/100\n",
      "50000/50000 [==============================] - 8s 168us/step - loss: 0.1128 - acc: 0.9622 - val_loss: 4.0878 - val_acc: 0.5009\n",
      "Epoch 91/100\n",
      "50000/50000 [==============================] - 10s 198us/step - loss: 0.0862 - acc: 0.9710 - val_loss: 4.1471 - val_acc: 0.5060\n",
      "Epoch 92/100\n",
      "50000/50000 [==============================] - 9s 184us/step - loss: 0.0693 - acc: 0.9768 - val_loss: 4.2243 - val_acc: 0.5124\n",
      "Epoch 93/100\n",
      "50000/50000 [==============================] - 9s 185us/step - loss: 0.0752 - acc: 0.9746 - val_loss: 4.3037 - val_acc: 0.5056\n",
      "Epoch 94/100\n",
      "50000/50000 [==============================] - 9s 185us/step - loss: 0.1133 - acc: 0.9628 - val_loss: 4.2584 - val_acc: 0.5023\n",
      "Epoch 95/100\n",
      "50000/50000 [==============================] - 9s 185us/step - loss: 0.1205 - acc: 0.9596 - val_loss: 4.1739 - val_acc: 0.5029\n",
      "Epoch 96/100\n",
      "50000/50000 [==============================] - 9s 182us/step - loss: 0.1251 - acc: 0.9594 - val_loss: 4.1090 - val_acc: 0.5002\n",
      "Epoch 97/100\n",
      "50000/50000 [==============================] - 9s 182us/step - loss: 0.0741 - acc: 0.9748 - val_loss: 4.2381 - val_acc: 0.5087\n",
      "Epoch 98/100\n",
      "50000/50000 [==============================] - 9s 183us/step - loss: 0.0781 - acc: 0.9747 - val_loss: 4.2834 - val_acc: 0.4989\n",
      "Epoch 99/100\n",
      "50000/50000 [==============================] - 9s 182us/step - loss: 0.0812 - acc: 0.9731 - val_loss: 4.3101 - val_acc: 0.5108\n",
      "Epoch 100/100\n",
      "50000/50000 [==============================] - 9s 183us/step - loss: 0.1313 - acc: 0.9580 - val_loss: 4.1813 - val_acc: 0.5033\n"
     ]
    },
    {
     "data": {
      "text/plain": [
       "<keras.callbacks.History at 0x90189e6860>"
      ]
     },
     "execution_count": 24,
     "metadata": {},
     "output_type": "execute_result"
    }
   ],
   "source": [
    "model.fit(x_train, y_train, \n",
    "          epochs=EPOCHS, \n",
    "          batch_size=BATCH_SIZE, \n",
    "          validation_data=(x_test, y_test), \n",
    "          shuffle=True)"
   ]
  },
  {
   "cell_type": "code",
   "execution_count": 26,
   "metadata": {},
   "outputs": [
    {
     "data": {
      "image/png": "[encoded data removed]",
      "text/plain": [
       "<Figure size 432x288 with 1 Axes>"
      ]
     },
     "metadata": {
      "needs_background": "light"
     },
     "output_type": "display_data"
    },
    {
     "data": {
      "image/png": "[encoded data removed]",
      "text/plain": [
       "<Figure size 432x288 with 1 Axes>"
      ]
     },
     "metadata": {
      "needs_background": "light"
     },
     "output_type": "display_data"
    }
   ],
   "source": [
    "import matplotlib.pyplot as plt\n",
    "\n",
    "\n",
    "train_loss = model.history.history[\"loss\"]\n",
    "valid_loss = model.history.history[\"val_loss\"]\n",
    "\n",
    "train_acc = model.history.history[\"acc\"]\n",
    "valid_acc = model.history.history[\"val_acc\"]\n",
    "\n",
    "plt.plot(range(len(train_loss)), train_loss, label=\"train loss\")\n",
    "plt.plot(range(len(valid_loss)), valid_loss, label=\"valid loss\")\n",
    "plt.legend()\n",
    "plt.title(\"Loss\")\n",
    "plt.show()\n",
    "\n",
    "plt.plot(range(len(train_acc)), train_acc, label=\"train accuracy\")\n",
    "plt.plot(range(len(valid_acc)), valid_acc, label=\"valid accuracy\")\n",
    "plt.legend()\n",
    "plt.title(\"Accuracy\")\n",
    "plt.show()"
   ]
  },
  {
   "cell_type": "code",
   "execution_count": null,
   "metadata": {},
   "outputs": [],
   "source": []
  }
 ],
 "metadata": {
  "kernelspec": {
   "display_name": "Python 3",
   "language": "python",
   "name": "python3"
  },
  "language_info": {
   "codemirror_mode": {
    "name": "ipython",
    "version": 3
   },
   "file_extension": ".py",
   "mimetype": "text/x-python",
   "name": "python",
   "nbconvert_exporter": "python",
   "pygments_lexer": "ipython3",
   "version": "3.7.3"
  }
 },
 "nbformat": 4,
 "nbformat_minor": 2
}
