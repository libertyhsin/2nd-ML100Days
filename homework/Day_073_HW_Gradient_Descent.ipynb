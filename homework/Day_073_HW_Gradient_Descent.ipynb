{
 "cells": [
  {
   "cell_type": "markdown",
   "metadata": {},
   "source": [
    "# 作業重點\n",
    "\n",
    "使用function y=(x+5)² 來練習學習率( leanrning rate ) 調整所造成的影響"
   ]
  },
  {
   "cell_type": "markdown",
   "metadata": {},
   "source": [
    "# 作業目標:\n",
    "    請嘗試使用不同的組合驗證 learning rate 對所需 iteration 的影響\n",
    "    lr = [0.1, 0.0001]\n",
    "    主要驗證 Lr 對於grandient 收斂的速度\n",
    "    "
   ]
  },
  {
   "cell_type": "code",
   "execution_count": 8,
   "metadata": {},
   "outputs": [],
   "source": [
    "cur_x = 3 # The algorithm starts at x=3\n",
    "precision = 0.000001 #This tells us when to stop the algorithm\n",
    "max_iters = 10000 # maximum number of iterations\n",
    "df = lambda x: 2*(x+5) #Gradient of our function "
   ]
  },
  {
   "cell_type": "code",
   "execution_count": 9,
   "metadata": {
    "scrolled": false
   },
   "outputs": [
    {
     "name": "stdout",
     "output_type": "stream",
     "text": [
      "the learning rate is 0.1 \n",
      "Iteration 1 \n",
      "X value is 1.4\n",
      "the learning rate is 0.1 \n",
      "Iteration 2 \n",
      "X value is 0.11999999999999966\n",
      "the learning rate is 0.1 \n",
      "Iteration 3 \n",
      "X value is -0.9040000000000001\n",
      "the learning rate is 0.1 \n",
      "Iteration 4 \n",
      "X value is -1.7232000000000003\n",
      "the learning rate is 0.1 \n",
      "Iteration 5 \n",
      "X value is -2.3785600000000002\n",
      "the learning rate is 0.1 \n",
      "Iteration 6 \n",
      "X value is -2.902848\n",
      "the learning rate is 0.1 \n",
      "Iteration 7 \n",
      "X value is -3.3222784\n",
      "the learning rate is 0.1 \n",
      "Iteration 8 \n",
      "X value is -3.65782272\n",
      "the learning rate is 0.1 \n",
      "Iteration 9 \n",
      "X value is -3.926258176\n",
      "the learning rate is 0.1 \n",
      "Iteration 10 \n",
      "X value is -4.1410065408\n",
      "the learning rate is 0.1 \n",
      "Iteration 11 \n",
      "X value is -4.312805232640001\n",
      "the learning rate is 0.1 \n",
      "Iteration 12 \n",
      "X value is -4.450244186112\n",
      "the learning rate is 0.1 \n",
      "Iteration 13 \n",
      "X value is -4.5601953488896\n",
      "the learning rate is 0.1 \n",
      "Iteration 14 \n",
      "X value is -4.64815627911168\n",
      "the learning rate is 0.1 \n",
      "Iteration 15 \n",
      "X value is -4.718525023289343\n",
      "the learning rate is 0.1 \n",
      "Iteration 16 \n",
      "X value is -4.774820018631475\n",
      "the learning rate is 0.1 \n",
      "Iteration 17 \n",
      "X value is -4.81985601490518\n",
      "the learning rate is 0.1 \n",
      "Iteration 18 \n",
      "X value is -4.855884811924144\n",
      "the learning rate is 0.1 \n",
      "Iteration 19 \n",
      "X value is -4.884707849539315\n",
      "the learning rate is 0.1 \n",
      "Iteration 20 \n",
      "X value is -4.907766279631452\n",
      "the learning rate is 0.1 \n",
      "Iteration 21 \n",
      "X value is -4.926213023705161\n",
      "the learning rate is 0.1 \n",
      "Iteration 22 \n",
      "X value is -4.940970418964129\n",
      "the learning rate is 0.1 \n",
      "Iteration 23 \n",
      "X value is -4.952776335171303\n",
      "the learning rate is 0.1 \n",
      "Iteration 24 \n",
      "X value is -4.962221068137042\n",
      "the learning rate is 0.1 \n",
      "Iteration 25 \n",
      "X value is -4.969776854509634\n",
      "the learning rate is 0.1 \n",
      "Iteration 26 \n",
      "X value is -4.9758214836077075\n",
      "the learning rate is 0.1 \n",
      "Iteration 27 \n",
      "X value is -4.980657186886166\n",
      "the learning rate is 0.1 \n",
      "Iteration 28 \n",
      "X value is -4.984525749508933\n",
      "the learning rate is 0.1 \n",
      "Iteration 29 \n",
      "X value is -4.987620599607146\n",
      "the learning rate is 0.1 \n",
      "Iteration 30 \n",
      "X value is -4.990096479685716\n",
      "the learning rate is 0.1 \n",
      "Iteration 31 \n",
      "X value is -4.992077183748573\n",
      "the learning rate is 0.1 \n",
      "Iteration 32 \n",
      "X value is -4.993661746998859\n",
      "the learning rate is 0.1 \n",
      "Iteration 33 \n",
      "X value is -4.994929397599087\n",
      "the learning rate is 0.1 \n",
      "Iteration 34 \n",
      "X value is -4.99594351807927\n",
      "the learning rate is 0.1 \n",
      "Iteration 35 \n",
      "X value is -4.996754814463416\n",
      "the learning rate is 0.1 \n",
      "Iteration 36 \n",
      "X value is -4.997403851570732\n",
      "the learning rate is 0.1 \n",
      "Iteration 37 \n",
      "X value is -4.997923081256586\n",
      "the learning rate is 0.1 \n",
      "Iteration 38 \n",
      "X value is -4.9983384650052685\n",
      "the learning rate is 0.1 \n",
      "Iteration 39 \n",
      "X value is -4.998670772004215\n",
      "the learning rate is 0.1 \n",
      "Iteration 40 \n",
      "X value is -4.998936617603372\n",
      "the learning rate is 0.1 \n",
      "Iteration 41 \n",
      "X value is -4.999149294082697\n",
      "the learning rate is 0.1 \n",
      "Iteration 42 \n",
      "X value is -4.999319435266157\n",
      "the learning rate is 0.1 \n",
      "Iteration 43 \n",
      "X value is -4.999455548212926\n",
      "the learning rate is 0.1 \n",
      "Iteration 44 \n",
      "X value is -4.99956443857034\n",
      "the learning rate is 0.1 \n",
      "Iteration 45 \n",
      "X value is -4.999651550856273\n",
      "the learning rate is 0.1 \n",
      "Iteration 46 \n",
      "X value is -4.999721240685018\n",
      "the learning rate is 0.1 \n",
      "Iteration 47 \n",
      "X value is -4.999776992548014\n",
      "the learning rate is 0.1 \n",
      "Iteration 48 \n",
      "X value is -4.999821594038411\n",
      "the learning rate is 0.1 \n",
      "Iteration 49 \n",
      "X value is -4.999857275230729\n",
      "the learning rate is 0.1 \n",
      "Iteration 50 \n",
      "X value is -4.999885820184583\n",
      "the learning rate is 0.0001 \n",
      "Iteration 51 \n",
      "X value is -4.999885843020547\n"
     ]
    }
   ],
   "source": [
    "learning = [0.1, 0.0001]\n",
    "iters = 0\n",
    "iters_history = [0]\n",
    "x_history = [cur_x]\n",
    "previous_step_size = 1\n",
    "#Learning rate\n",
    "#iteration counter\n",
    "#Step size\n",
    "while previous_step_size > precision and iters < max_iters:\n",
    "    if iters < 50:\n",
    "        lr = learning[0]\n",
    "    else:\n",
    "        lr = learning[1]\n",
    "    pre_x = cur_x\n",
    "    cur_x = cur_x - lr * df(pre_x)\n",
    "    iters = iters + 1\n",
    "    previous_step_size = abs(cur_x - pre_x)\n",
    "    print(\"the learning rate is\",lr, \"\\nIteration\",iters,\"\\nX value is\",cur_x) #Print iterations\n",
    "    iters_history.append(iters)\n",
    "    x_history.append(cur_x)"
   ]
  },
  {
   "cell_type": "code",
   "execution_count": 10,
   "metadata": {},
   "outputs": [
    {
     "name": "stdout",
     "output_type": "stream",
     "text": [
      "Totally iteations:  51\n",
      "The local minimum occurs at -4.999885843020547\n"
     ]
    }
   ],
   "source": [
    "print(\"Totally iteations: \", iters)\n",
    "print(\"The local minimum occurs at\", cur_x)"
   ]
  },
  {
   "cell_type": "code",
   "execution_count": 11,
   "metadata": {},
   "outputs": [
    {
     "data": {
      "image/png": "[encoded data removed]",
      "text/plain": [
       "<Figure size 432x288 with 1 Axes>"
      ]
     },
     "metadata": {
      "needs_background": "light"
     },
     "output_type": "display_data"
    }
   ],
   "source": [
    "import matplotlib.pyplot as plt\n",
    "%matplotlib inline \n",
    "#適用於 Jupyter Notebook, 宣告直接在cell 內印出執行結果\n",
    "\n",
    "plt.plot(iters_history, x_history, 'o-', ms=3, lw=1.5, color='black')\n",
    "plt.xlabel(r'$iters$', fontsize=16)\n",
    "plt.ylabel(r'$x$', fontsize=16)\n",
    "plt.show()"
   ]
  },
  {
   "cell_type": "code",
   "execution_count": null,
   "metadata": {},
   "outputs": [],
   "source": []
  },
  {
   "cell_type": "code",
   "execution_count": null,
   "metadata": {},
   "outputs": [],
   "source": []
  }
 ],
 "metadata": {
  "kernelspec": {
   "display_name": "Python 3",
   "language": "python",
   "name": "python3"
  },
  "language_info": {
   "codemirror_mode": {
    "name": "ipython",
    "version": 3
   },
   "file_extension": ".py",
   "mimetype": "text/x-python",
   "name": "python",
   "nbconvert_exporter": "python",
   "pygments_lexer": "ipython3",
   "version": "3.7.3"
  }
 },
 "nbformat": 4,
 "nbformat_minor": 2
}
