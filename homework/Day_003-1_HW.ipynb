{
 "cells": [
  {
   "cell_type": "markdown",
   "metadata": {},
   "source": [
    "## 練習時間\n",
    "在小量的資料上，我們用眼睛就可以看得出來程式碼是否有跑出我們理想中的結果\n",
    "\n",
    "請嘗試想像一個你需要的資料結構 (裡面的值可以是隨機的)，然後用上述的方法把它變成 pandas DataFrame\n",
    "\n",
    "#### Ex: 想像一個 dataframe 有兩個欄位，一個是國家，一個是人口，求人口數最多的國家\n",
    "\n",
    "### Hints: [隨機產生數值](https://blog.csdn.net/christianashannon/article/details/78867204)"
   ]
  },
  {
   "cell_type": "code",
   "execution_count": 1,
   "metadata": {},
   "outputs": [],
   "source": [
    "import pandas as pd\n",
    "import numpy as np"
   ]
  },
  {
   "cell_type": "code",
   "execution_count": 2,
   "metadata": {},
   "outputs": [
    {
     "name": "stdout",
     "output_type": "stream",
     "text": [
      "          國家        人口\n",
      "0     Taiwan  82380000\n",
      "1        USA  25160000\n",
      "2     France  23900000\n",
      "3    Chinese  57360000\n",
      "4    Bermuda  24490000\n",
      "5  Australia  35810000\n",
      "6     Canada  62370000\n"
     ]
    }
   ],
   "source": [
    "country = np.array([\"Taiwan\", \"USA\", \"France\", \"Chinese\", \"Bermuda\", \"Australia\", \"Canada\"])\n",
    "people = np.random.randint(10, 10000, size=country.size) * 10000\n",
    "\n",
    "data = {'國家': country,\n",
    "        '人口': people}\n",
    "data = pd.DataFrame(data)\n",
    "print(data)"
   ]
  },
  {
   "cell_type": "code",
   "execution_count": 3,
   "metadata": {},
   "outputs": [
    {
     "name": "stdout",
     "output_type": "stream",
     "text": [
      "82380000\n",
      "0\n",
      "人口數最多的國家為:\n",
      " 國家      Taiwan\n",
      "人口    82380000\n",
      "Name: 0, dtype: object\n"
     ]
    }
   ],
   "source": [
    "print(data[\"人口\"].max())\n",
    "print(data[\"人口\"].idxmax())\n",
    "#print(data.ix[2])\n",
    "print(\"人口數最多的國家為:\\n\", data.loc[data[\"人口\"].idxmax,])"
   ]
  },
  {
   "cell_type": "code",
   "execution_count": null,
   "metadata": {},
   "outputs": [],
   "source": []
  }
 ],
 "metadata": {
  "kernelspec": {
   "display_name": "Python 3",
   "language": "python",
   "name": "python3"
  },
  "language_info": {
   "codemirror_mode": {
    "name": "ipython",
    "version": 3
   },
   "file_extension": ".py",
   "mimetype": "text/x-python",
   "name": "python",
   "nbconvert_exporter": "python",
   "pygments_lexer": "ipython3",
   "version": "3.7.3"
  }
 },
 "nbformat": 4,
 "nbformat_minor": 2
}
