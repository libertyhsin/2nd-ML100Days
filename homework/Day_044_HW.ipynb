{
 "cells": [
  {
   "cell_type": "markdown",
   "metadata": {},
   "source": [
    "## [作業重點]\n",
    "確保你了解隨機森林模型中每個超參數的意義，並觀察調整超參數對結果的影響"
   ]
  },
  {
   "cell_type": "markdown",
   "metadata": {},
   "source": [
    "## 作業\n",
    "\n",
    "1. 試著調整 RandomForestClassifier(...) 中的參數，並觀察是否會改變結果？\n",
    "2. 改用其他資料集 (boston, wine)，並與回歸模型與決策樹的結果進行比較"
   ]
  },
  {
   "cell_type": "code",
   "execution_count": 29,
   "metadata": {},
   "outputs": [],
   "source": [
    "from sklearn import datasets, metrics\n",
    "from sklearn.ensemble import RandomForestClassifier\n",
    "from sklearn.model_selection import train_test_split\n",
    "from sklearn.linear_model import LinearRegression, LogisticRegression, Ridge, Lasso"
   ]
  },
  {
   "cell_type": "code",
   "execution_count": 2,
   "metadata": {},
   "outputs": [],
   "source": [
    "wine = datasets.load_wine()\n",
    "x_train, x_test, y_train, y_test = train_test_split(wine.data, wine.target, test_size=0.25, random_state=4)"
   ]
  },
  {
   "cell_type": "code",
   "execution_count": 6,
   "metadata": {},
   "outputs": [
    {
     "name": "stdout",
     "output_type": "stream",
     "text": [
      "Accuracy:0.98\n"
     ]
    }
   ],
   "source": [
    "RF1 = RandomForestClassifier(n_estimators=20, max_depth=4)\n",
    "RF1.fit(x_train, y_train)\n",
    "y_pred = RF1.predict(x_test)\n",
    "print(\"Accuracy:%.2f\" %metrics.accuracy_score(y_test, y_pred))"
   ]
  },
  {
   "cell_type": "code",
   "execution_count": 13,
   "metadata": {},
   "outputs": [
    {
     "name": "stdout",
     "output_type": "stream",
     "text": [
      "Accuracy:0.33\n"
     ]
    }
   ],
   "source": [
    "RF2 = RandomForestClassifier(max_features=\"sqrt\", n_estimators=20, max_depth=4, min_samples_leaf=50, oob_score = True)\n",
    "RF2.fit(x_train, y_train)\n",
    "y_pred2 = RF2.predict(x_test)\n",
    "print(\"Accuracy:%.2f\" %metrics.accuracy_score(y_test, y_pred2))"
   ]
  },
  {
   "cell_type": "code",
   "execution_count": 24,
   "metadata": {},
   "outputs": [
    {
     "name": "stdout",
     "output_type": "stream",
     "text": [
      "Accuracy:0.89\n"
     ]
    }
   ],
   "source": [
    "RF3 = RandomForestClassifier(max_features=\"sqrt\", n_estimators=20, max_depth=4, min_samples_leaf=40, \n",
    "                             oob_score = True, bootstrap=True)\n",
    "RF3.fit(x_train, y_train)\n",
    "y_pred3 = RF3.predict(x_test)\n",
    "print(\"Accuracy:%.2f\" %metrics.accuracy_score(y_test, y_pred3))\n",
    "#print(f\"AUC{metrics.roc_auc_score(y_test, y_pred3)}\") multiclass not support"
   ]
  },
  {
   "cell_type": "code",
   "execution_count": 36,
   "metadata": {},
   "outputs": [
    {
     "name": "stdout",
     "output_type": "stream",
     "text": [
      "Accuracy:0.96\n"
     ]
    }
   ],
   "source": [
    "RF4 = RandomForestClassifier(max_features=\"sqrt\", n_estimators=20, max_depth=10, min_samples_leaf=10, \n",
    "                             oob_score = True, bootstrap=True, min_samples_split=2)\n",
    "RF4.fit(x_train, y_train)\n",
    "y_pred4 = RF4.predict(x_test)\n",
    "print(\"Accuracy:%.2f\" %metrics.accuracy_score(y_test, y_pred4))"
   ]
  },
  {
   "cell_type": "code",
   "execution_count": 28,
   "metadata": {},
   "outputs": [
    {
     "name": "stdout",
     "output_type": "stream",
     "text": [
      "Accuracy:0.98\n",
      "Accuracy:0.98\n",
      "Accuracy:0.98\n",
      "Accuracy:0.98\n",
      "Accuracy:0.96\n",
      "Accuracy:0.89\n",
      "Accuracy:0.33\n"
     ]
    }
   ],
   "source": [
    "sample_leaf_options = [1,5,10,20,30,40,50]\n",
    "\n",
    "for leaf_size in sample_leaf_options :\n",
    "    model = RandomForestClassifier(n_estimators = 20, oob_score = True, n_jobs = -1, random_state =50,\n",
    "                                   max_features = \"auto\", min_samples_leaf = leaf_size)\n",
    "    model.fit(x_train, y_train)\n",
    "    y_pred = model.predict(x_test)\n",
    "    print(\"Accuracy:%.2f\" %metrics.accuracy_score(y_test, y_pred))"
   ]
  },
  {
   "cell_type": "code",
   "execution_count": 32,
   "metadata": {},
   "outputs": [
    {
     "name": "stdout",
     "output_type": "stream",
     "text": [
      "Accuracy:0.93\n",
      "[2 2 0 0 1 2 0 0 0 1 1 0 2 2 0 1 0 1 1 2 1 2 1 2 0 2 1 1 2 2 0 1 0 1 2 2 0\n",
      " 0 0 2 2 0 1 2 1]\n"
     ]
    },
    {
     "name": "stderr",
     "output_type": "stream",
     "text": [
      "C:\\Users\\Hsin-PC\\Anaconda3\\lib\\site-packages\\sklearn\\linear_model\\logistic.py:433: FutureWarning: Default solver will be changed to 'lbfgs' in 0.22. Specify a solver to silence this warning.\n",
      "  FutureWarning)\n",
      "C:\\Users\\Hsin-PC\\Anaconda3\\lib\\site-packages\\sklearn\\linear_model\\logistic.py:460: FutureWarning: Default multi_class will be changed to 'auto' in 0.22. Specify the multi_class option to silence this warning.\n",
      "  \"this warning.\", FutureWarning)\n"
     ]
    }
   ],
   "source": [
    "lm = LogisticRegression()\n",
    "lm.fit(x_train, y_train)\n",
    "lm_pred = lm.predict(x_test)\n",
    "print(\"Accuracy:%.2f\" %metrics.accuracy_score(y_test, lm_pred))\n",
    "print(lm_pred)"
   ]
  },
  {
   "cell_type": "code",
   "execution_count": null,
   "metadata": {},
   "outputs": [],
   "source": []
  }
 ],
 "metadata": {
  "kernelspec": {
   "display_name": "Python 3",
   "language": "python",
   "name": "python3"
  },
  "language_info": {
   "codemirror_mode": {
    "name": "ipython",
    "version": 3
   },
   "file_extension": ".py",
   "mimetype": "text/x-python",
   "name": "python",
   "nbconvert_exporter": "python",
   "pygments_lexer": "ipython3",
   "version": "3.7.3"
  }
 },
 "nbformat": 4,
 "nbformat_minor": 2
}
